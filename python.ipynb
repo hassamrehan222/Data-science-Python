{
 "cells": [
  {
   "cell_type": "code",
   "execution_count": 1,
   "id": "9e835f46-6151-4d75-9808-17635d90c13f",
   "metadata": {},
   "outputs": [],
   "source": [
    "import pandas as pd\n",
    "from matplotlib import pyplot as plt\n",
    "import seaborn as sns"
   ]
  },
  {
   "cell_type": "code",
   "execution_count": 2,
   "id": "fc1a1d99-daad-4757-bd0c-8429fbcd79a3",
   "metadata": {},
   "outputs": [
    {
     "data": {
      "text/html": [
       "<div>\n",
       "<style scoped>\n",
       "    .dataframe tbody tr th:only-of-type {\n",
       "        vertical-align: middle;\n",
       "    }\n",
       "\n",
       "    .dataframe tbody tr th {\n",
       "        vertical-align: top;\n",
       "    }\n",
       "\n",
       "    .dataframe thead th {\n",
       "        text-align: right;\n",
       "    }\n",
       "</style>\n",
       "<table border=\"1\" class=\"dataframe\">\n",
       "  <thead>\n",
       "    <tr style=\"text-align: right;\">\n",
       "      <th></th>\n",
       "      <th>Unnamed: 0</th>\n",
       "      <th>Player</th>\n",
       "      <th>Span</th>\n",
       "      <th>Mat</th>\n",
       "      <th>Inns</th>\n",
       "      <th>NO</th>\n",
       "      <th>Runs</th>\n",
       "      <th>HS</th>\n",
       "      <th>Ave</th>\n",
       "      <th>BF</th>\n",
       "      <th>SR</th>\n",
       "      <th>100</th>\n",
       "      <th>50</th>\n",
       "      <th>0</th>\n",
       "      <th>4s</th>\n",
       "      <th>6s</th>\n",
       "      <th>Unnamed: 15</th>\n",
       "    </tr>\n",
       "  </thead>\n",
       "  <tbody>\n",
       "    <tr>\n",
       "      <th>0</th>\n",
       "      <td>0</td>\n",
       "      <td>V Kohli (INDIA)</td>\n",
       "      <td>2010-2019</td>\n",
       "      <td>75</td>\n",
       "      <td>70</td>\n",
       "      <td>20</td>\n",
       "      <td>2633</td>\n",
       "      <td>94*</td>\n",
       "      <td>52.66</td>\n",
       "      <td>1907</td>\n",
       "      <td>138.07</td>\n",
       "      <td>0</td>\n",
       "      <td>24</td>\n",
       "      <td>2</td>\n",
       "      <td>247</td>\n",
       "      <td>71</td>\n",
       "      <td>NaN</td>\n",
       "    </tr>\n",
       "    <tr>\n",
       "      <th>1</th>\n",
       "      <td>1</td>\n",
       "      <td>RG Sharma (INDIA)</td>\n",
       "      <td>2007-2019</td>\n",
       "      <td>104</td>\n",
       "      <td>96</td>\n",
       "      <td>14</td>\n",
       "      <td>2633</td>\n",
       "      <td>118</td>\n",
       "      <td>32.1</td>\n",
       "      <td>1905</td>\n",
       "      <td>138.21</td>\n",
       "      <td>4</td>\n",
       "      <td>19</td>\n",
       "      <td>6</td>\n",
       "      <td>234</td>\n",
       "      <td>120</td>\n",
       "      <td>NaN</td>\n",
       "    </tr>\n",
       "    <tr>\n",
       "      <th>2</th>\n",
       "      <td>2</td>\n",
       "      <td>MJ Guptill (NZ)</td>\n",
       "      <td>2009-2019</td>\n",
       "      <td>83</td>\n",
       "      <td>80</td>\n",
       "      <td>7</td>\n",
       "      <td>2436</td>\n",
       "      <td>105</td>\n",
       "      <td>33.36</td>\n",
       "      <td>1810</td>\n",
       "      <td>134.58</td>\n",
       "      <td>2</td>\n",
       "      <td>15</td>\n",
       "      <td>2</td>\n",
       "      <td>215</td>\n",
       "      <td>113</td>\n",
       "      <td>NaN</td>\n",
       "    </tr>\n",
       "    <tr>\n",
       "      <th>3</th>\n",
       "      <td>3</td>\n",
       "      <td>Shoaib Malik (ICC/PAK)</td>\n",
       "      <td>2006-2019</td>\n",
       "      <td>111</td>\n",
       "      <td>104</td>\n",
       "      <td>30</td>\n",
       "      <td>2263</td>\n",
       "      <td>75</td>\n",
       "      <td>30.58</td>\n",
       "      <td>1824</td>\n",
       "      <td>124.06</td>\n",
       "      <td>0</td>\n",
       "      <td>7</td>\n",
       "      <td>1</td>\n",
       "      <td>186</td>\n",
       "      <td>61</td>\n",
       "      <td>NaN</td>\n",
       "    </tr>\n",
       "    <tr>\n",
       "      <th>4</th>\n",
       "      <td>4</td>\n",
       "      <td>BB McCullum (NZ)</td>\n",
       "      <td>2005-2015</td>\n",
       "      <td>71</td>\n",
       "      <td>70</td>\n",
       "      <td>10</td>\n",
       "      <td>2140</td>\n",
       "      <td>123</td>\n",
       "      <td>35.66</td>\n",
       "      <td>1571</td>\n",
       "      <td>136.21</td>\n",
       "      <td>2</td>\n",
       "      <td>13</td>\n",
       "      <td>3</td>\n",
       "      <td>199</td>\n",
       "      <td>91</td>\n",
       "      <td>NaN</td>\n",
       "    </tr>\n",
       "  </tbody>\n",
       "</table>\n",
       "</div>"
      ],
      "text/plain": [
       "   Unnamed: 0                  Player       Span  Mat Inns  NO  Runs   HS  \\\n",
       "0           0         V Kohli (INDIA)  2010-2019   75   70  20  2633  94*   \n",
       "1           1       RG Sharma (INDIA)  2007-2019  104   96  14  2633  118   \n",
       "2           2         MJ Guptill (NZ)  2009-2019   83   80   7  2436  105   \n",
       "3           3  Shoaib Malik (ICC/PAK)  2006-2019  111  104  30  2263   75   \n",
       "4           4        BB McCullum (NZ)  2005-2015   71   70  10  2140  123   \n",
       "\n",
       "     Ave    BF      SR 100  50  0   4s   6s  Unnamed: 15  \n",
       "0  52.66  1907  138.07   0  24  2  247   71          NaN  \n",
       "1   32.1  1905  138.21   4  19  6  234  120          NaN  \n",
       "2  33.36  1810  134.58   2  15  2  215  113          NaN  \n",
       "3  30.58  1824  124.06   0   7  1  186   61          NaN  \n",
       "4  35.66  1571  136.21   2  13  3  199   91          NaN  "
      ]
     },
     "execution_count": 2,
     "metadata": {},
     "output_type": "execute_result"
    }
   ],
   "source": [
    "cr = pd.read_csv(\"t20.csv\")\n",
    "cr.head()"
   ]
  },
  {
   "cell_type": "code",
   "execution_count": null,
   "id": "5c0e1645-361a-4e33-98fb-eecea8315c9b",
   "metadata": {},
   "outputs": [],
   "source": []
  },
  {
   "cell_type": "code",
   "execution_count": 4,
   "id": "8693e327-9d43-4304-9bbc-f0999f18ef5e",
   "metadata": {},
   "outputs": [
    {
     "data": {
      "text/plain": [
       "Runs\n",
       "-      152\n",
       "0       91\n",
       "1       79\n",
       "2       56\n",
       "4       44\n",
       "      ... \n",
       "452      1\n",
       "171      1\n",
       "453      1\n",
       "454      1\n",
       "263      1\n",
       "Name: count, Length: 453, dtype: int64"
      ]
     },
     "execution_count": 4,
     "metadata": {},
     "output_type": "execute_result"
    }
   ],
   "source": [
    "cr[\"Runs\"].value_counts()\n"
   ]
  },
  {
   "cell_type": "code",
   "execution_count": 8,
   "id": "19b0b4e3-76cd-46ab-bf10-684f7502de76",
   "metadata": {},
   "outputs": [
    {
     "data": {
      "text/plain": [
       "['V Kohli (INDIA)',\n",
       " 'S Goustis ()',\n",
       " 'J Reb (Serb)',\n",
       " 'AA Mulla (CAN)',\n",
       " 'BJ McCarthy (IRE)']"
      ]
     },
     "execution_count": 8,
     "metadata": {},
     "output_type": "execute_result"
    }
   ],
   "source": [
    "list(cr['Player'].value_counts()[0:5].keys())"
   ]
  },
  {
   "cell_type": "code",
   "execution_count": 13,
   "id": "f72c5133-f6bd-4019-afad-692e25a2b0ef",
   "metadata": {},
   "outputs": [
    {
     "data": {
      "image/png": "[encoded data removed]",
      "text/plain": [
       "<Figure size 640x480 with 1 Axes>"
      ]
     },
     "metadata": {},
     "output_type": "display_data"
    }
   ],
   "source": [
    "import matplotlib.pyplot as plt\n",
    "\n",
    "# Get the top 5 players and their counts\n",
    "top_players = cr['HS'].value_counts().head(5)\n",
    "\n",
    "# Plot the top 5 players\n",
    "plt.bar(top_players.index, top_players, color='g')\n",
    "plt.show()\n"
   ]
  },
  {
   "cell_type": "code",
   "execution_count": 6,
   "id": "ac897f70-0ea0-456f-aaa0-90d21e2664a0",
   "metadata": {},
   "outputs": [
    {
     "data": {
      "image/png": "[encoded data removed]",
      "text/plain": [
       "<Figure size 640x480 with 1 Axes>"
      ]
     },
     "metadata": {},
     "output_type": "display_data"
    }
   ],
   "source": [
    "import matplotlib.pyplot as plt\n",
    "\n",
    "top_players = cr['Player'].value_counts().head(5)\n",
    "plt.bar(top_players.index, top_players, color='g')\n",
    "\n",
    "plt.xticks(rotation=45, ha='right')  \n",
    "for i, (player, runs) in enumerate(zip(top_players.index, top_players)):\n",
    "    plt.text(i, runs, f\"{player}\\n{runs}\", ha='center', va='bottom')\n",
    "\n",
    "plt.show()\n"
   ]
  },
  {
   "cell_type": "code",
   "execution_count": 5,
   "id": "15797a13-6570-4d26-b5e0-5d11a69274f0",
   "metadata": {},
   "outputs": [
    {
     "data": {
      "text/plain": [
       "Ave\n",
       "-       328\n",
       "0.00     62\n",
       "1.00     45\n",
       "2.00     40\n",
       "4.00     37\n",
       "Name: count, dtype: int64"
      ]
     },
     "execution_count": 5,
     "metadata": {},
     "output_type": "execute_result"
    }
   ],
   "source": [
    "cr[\"Ave\"].value_counts()[0:5]"
   ]
  },
  {
   "cell_type": "code",
   "execution_count": 6,
   "id": "38d84bfa-031d-4bac-a84c-540c0f273e30",
   "metadata": {},
   "outputs": [
    {
     "data": {
      "text/html": [
       "<div>\n",
       "<style scoped>\n",
       "    .dataframe tbody tr th:only-of-type {\n",
       "        vertical-align: middle;\n",
       "    }\n",
       "\n",
       "    .dataframe tbody tr th {\n",
       "        vertical-align: top;\n",
       "    }\n",
       "\n",
       "    .dataframe thead th {\n",
       "        text-align: right;\n",
       "    }\n",
       "</style>\n",
       "<table border=\"1\" class=\"dataframe\">\n",
       "  <thead>\n",
       "    <tr style=\"text-align: right;\">\n",
       "      <th></th>\n",
       "      <th>Unnamed: 0</th>\n",
       "      <th>Player</th>\n",
       "      <th>Span</th>\n",
       "      <th>Mat</th>\n",
       "      <th>Inns</th>\n",
       "      <th>NO</th>\n",
       "      <th>Runs</th>\n",
       "      <th>HS</th>\n",
       "      <th>Ave</th>\n",
       "      <th>BF</th>\n",
       "      <th>SR</th>\n",
       "      <th>100</th>\n",
       "      <th>50</th>\n",
       "      <th>0</th>\n",
       "      <th>4s</th>\n",
       "      <th>6s</th>\n",
       "      <th>Unnamed: 15</th>\n",
       "    </tr>\n",
       "  </thead>\n",
       "  <tbody>\n",
       "    <tr>\n",
       "      <th>0</th>\n",
       "      <td>0</td>\n",
       "      <td>V Kohli (INDIA)</td>\n",
       "      <td>2010-2019</td>\n",
       "      <td>75</td>\n",
       "      <td>70</td>\n",
       "      <td>20</td>\n",
       "      <td>2633</td>\n",
       "      <td>94*</td>\n",
       "      <td>52.66</td>\n",
       "      <td>1907</td>\n",
       "      <td>138.07</td>\n",
       "      <td>0</td>\n",
       "      <td>24</td>\n",
       "      <td>2</td>\n",
       "      <td>247</td>\n",
       "      <td>71</td>\n",
       "      <td>NaN</td>\n",
       "    </tr>\n",
       "    <tr>\n",
       "      <th>1</th>\n",
       "      <td>1</td>\n",
       "      <td>RG Sharma (INDIA)</td>\n",
       "      <td>2007-2019</td>\n",
       "      <td>104</td>\n",
       "      <td>96</td>\n",
       "      <td>14</td>\n",
       "      <td>2633</td>\n",
       "      <td>118</td>\n",
       "      <td>32.1</td>\n",
       "      <td>1905</td>\n",
       "      <td>138.21</td>\n",
       "      <td>4</td>\n",
       "      <td>19</td>\n",
       "      <td>6</td>\n",
       "      <td>234</td>\n",
       "      <td>120</td>\n",
       "      <td>NaN</td>\n",
       "    </tr>\n",
       "    <tr>\n",
       "      <th>2</th>\n",
       "      <td>2</td>\n",
       "      <td>MJ Guptill (NZ)</td>\n",
       "      <td>2009-2019</td>\n",
       "      <td>83</td>\n",
       "      <td>80</td>\n",
       "      <td>7</td>\n",
       "      <td>2436</td>\n",
       "      <td>105</td>\n",
       "      <td>33.36</td>\n",
       "      <td>1810</td>\n",
       "      <td>134.58</td>\n",
       "      <td>2</td>\n",
       "      <td>15</td>\n",
       "      <td>2</td>\n",
       "      <td>215</td>\n",
       "      <td>113</td>\n",
       "      <td>NaN</td>\n",
       "    </tr>\n",
       "    <tr>\n",
       "      <th>3</th>\n",
       "      <td>3</td>\n",
       "      <td>Shoaib Malik (ICC/PAK)</td>\n",
       "      <td>2006-2019</td>\n",
       "      <td>111</td>\n",
       "      <td>104</td>\n",
       "      <td>30</td>\n",
       "      <td>2263</td>\n",
       "      <td>75</td>\n",
       "      <td>30.58</td>\n",
       "      <td>1824</td>\n",
       "      <td>124.06</td>\n",
       "      <td>0</td>\n",
       "      <td>7</td>\n",
       "      <td>1</td>\n",
       "      <td>186</td>\n",
       "      <td>61</td>\n",
       "      <td>NaN</td>\n",
       "    </tr>\n",
       "    <tr>\n",
       "      <th>4</th>\n",
       "      <td>4</td>\n",
       "      <td>BB McCullum (NZ)</td>\n",
       "      <td>2005-2015</td>\n",
       "      <td>71</td>\n",
       "      <td>70</td>\n",
       "      <td>10</td>\n",
       "      <td>2140</td>\n",
       "      <td>123</td>\n",
       "      <td>35.66</td>\n",
       "      <td>1571</td>\n",
       "      <td>136.21</td>\n",
       "      <td>2</td>\n",
       "      <td>13</td>\n",
       "      <td>3</td>\n",
       "      <td>199</td>\n",
       "      <td>91</td>\n",
       "      <td>NaN</td>\n",
       "    </tr>\n",
       "  </tbody>\n",
       "</table>\n",
       "</div>"
      ],
      "text/plain": [
       "   Unnamed: 0                  Player       Span  Mat Inns  NO  Runs   HS  \\\n",
       "0           0         V Kohli (INDIA)  2010-2019   75   70  20  2633  94*   \n",
       "1           1       RG Sharma (INDIA)  2007-2019  104   96  14  2633  118   \n",
       "2           2         MJ Guptill (NZ)  2009-2019   83   80   7  2436  105   \n",
       "3           3  Shoaib Malik (ICC/PAK)  2006-2019  111  104  30  2263   75   \n",
       "4           4        BB McCullum (NZ)  2005-2015   71   70  10  2140  123   \n",
       "\n",
       "     Ave    BF      SR 100  50  0   4s   6s  Unnamed: 15  \n",
       "0  52.66  1907  138.07   0  24  2  247   71          NaN  \n",
       "1   32.1  1905  138.21   4  19  6  234  120          NaN  \n",
       "2  33.36  1810  134.58   2  15  2  215  113          NaN  \n",
       "3  30.58  1824  124.06   0   7  1  186   61          NaN  \n",
       "4  35.66  1571  136.21   2  13  3  199   91          NaN  "
      ]
     },
     "execution_count": 6,
     "metadata": {},
     "output_type": "execute_result"
    }
   ],
   "source": [
    "tr = cr[cr[\"100\"]!=0]\n",
    "tr.head()"
   ]
  },
  {
   "cell_type": "code",
   "execution_count": 13,
   "id": "41e6545c-1027-447f-8b6b-8e197ec6dcf4",
   "metadata": {},
   "outputs": [
    {
     "data": {
      "image/png": "[encoded data removed]",
      "text/plain": [
       "<Figure size 500x700 with 1 Axes>"
      ]
     },
     "metadata": {},
     "output_type": "display_data"
    }
   ],
   "source": [
    "plt.figure(figsize = (5,7))\n",
    "plt.hist(tr[\"Ave\"])\n",
    "plt.title(\"100\")\n",
    "plt.xlabel(\"SR\")\n",
    "plt.show()"
   ]
  },
  {
   "cell_type": "code",
   "execution_count": null,
   "id": "1bd7ab25-af2c-4310-9d0d-32c07800dc3c",
   "metadata": {},
   "outputs": [],
   "source": []
  },
  {
   "cell_type": "code",
   "execution_count": 8,
   "id": "929efd16-78d5-45cd-9f0f-6432be0091c7",
   "metadata": {},
   "outputs": [
    {
     "data": {
      "text/plain": [
       "Runs\n",
       "-      152\n",
       "0       91\n",
       "1       79\n",
       "2       56\n",
       "4       44\n",
       "      ... \n",
       "452      1\n",
       "171      1\n",
       "453      1\n",
       "454      1\n",
       "263      1\n",
       "Name: count, Length: 453, dtype: int64"
      ]
     },
     "execution_count": 8,
     "metadata": {},
     "output_type": "execute_result"
    }
   ],
   "source": [
    "cr[\"Runs\"].value_counts()"
   ]
  },
  {
   "cell_type": "code",
   "execution_count": 14,
   "id": "62ef726b-7266-4b6e-9da3-64fecb1648a8",
   "metadata": {},
   "outputs": [
    {
     "data": {
      "image/png": "[encoded data removed]",
      "text/plain": [
       "<Figure size 600x600 with 1 Axes>"
      ]
     },
     "metadata": {},
     "output_type": "display_data"
    }
   ],
   "source": [
    "import matplotlib.pyplot as plt\n",
    "\n",
    "\n",
    "plt.figure(figsize=(6, 6))\n",
    "\n",
    "plt.bar(cr['Player'].value_counts().head(3).keys(), list(cr['Runs'].value_counts().head(3)), color=['blue', 'red', 'yellow'])\n",
    "plt.show()\n"
   ]
  },
  {
   "cell_type": "code",
   "execution_count": 26,
   "id": "ca90a5b3-a0fa-4bde-8556-f26826c6aa68",
   "metadata": {},
   "outputs": [
    {
     "data": {
      "image/png": "[encoded data removed]",
      "text/plain": [
       "<Figure size 640x480 with 1 Axes>"
      ]
     },
     "metadata": {},
     "output_type": "display_data"
    }
   ],
   "source": [
    "import pandas as pd\n",
    "import matplotlib.pyplot as plt\n",
    "\n",
    "\n",
    "data = pd.DataFrame({\n",
    "    'Player': ['V Kohli)', 'R Sharma ', 'M Guptill ', 'Shoaib Malik ', 'B McCullum '],\n",
    "    'Runs': [2633, 2633, 2436, 2263, 2140]\n",
    "})\n",
    "\n",
    "\n",
    "plt.bar(data['Player'], data['Runs'], color='blue')\n",
    "plt.xlabel('Player')\n",
    "plt.ylabel('Runs')\n",
    "plt.title('Top Players by Runs Scored')\n",
    "\n",
    "plt.show()\n"
   ]
  },
  {
   "cell_type": "code",
   "execution_count": null,
   "id": "f1000497-97aa-423b-9755-69b66759a524",
   "metadata": {},
   "outputs": [],
   "source": []
  }
 ],
 "metadata": {
  "kernelspec": {
   "display_name": "Python 3 (ipykernel)",
   "language": "python",
   "name": "python3"
  },
  "language_info": {
   "codemirror_mode": {
    "name": "ipython",
    "version": 3
   },
   "file_extension": ".py",
   "mimetype": "text/x-python",
   "name": "python",
   "nbconvert_exporter": "python",
   "pygments_lexer": "ipython3",
   "version": "3.11.2"
  }
 },
 "nbformat": 4,
 "nbformat_minor": 5
}
