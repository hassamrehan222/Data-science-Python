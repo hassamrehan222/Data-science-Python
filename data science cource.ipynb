{
 "cells": [
  {
   "cell_type": "code",
   "execution_count": 1,
   "id": "60a85aea-3142-430b-8267-897f03a4e636",
   "metadata": {},
   "outputs": [],
   "source": [
    "import numpy as np\n",
    "import pandas as pd\n"
   ]
  },
  {
   "cell_type": "code",
   "execution_count": 2,
   "id": "c8694a00-650e-45f2-8b66-f67c31f53197",
   "metadata": {},
   "outputs": [
    {
     "name": "stdout",
     "output_type": "stream",
     "text": [
      "[1 2 3]\n"
     ]
    }
   ],
   "source": [
    "a = np.array([1,2,3])\n",
    "print(a)\n"
   ]
  },
  {
   "cell_type": "code",
   "execution_count": 3,
   "id": "82b8d3c0-94b5-4c4e-970b-d43bc82710e2",
   "metadata": {},
   "outputs": [
    {
     "data": {
      "text/html": [
       "<div>\n",
       "<style scoped>\n",
       "    .dataframe tbody tr th:only-of-type {\n",
       "        vertical-align: middle;\n",
       "    }\n",
       "\n",
       "    .dataframe tbody tr th {\n",
       "        vertical-align: top;\n",
       "    }\n",
       "\n",
       "    .dataframe thead th {\n",
       "        text-align: right;\n",
       "    }\n",
       "</style>\n",
       "<table border=\"1\" class=\"dataframe\">\n",
       "  <thead>\n",
       "    <tr style=\"text-align: right;\">\n",
       "      <th></th>\n",
       "      <th>name</th>\n",
       "      <th>age</th>\n",
       "    </tr>\n",
       "  </thead>\n",
       "  <tbody>\n",
       "    <tr>\n",
       "      <th>0</th>\n",
       "      <td>hassam</td>\n",
       "      <td>22</td>\n",
       "    </tr>\n",
       "    <tr>\n",
       "      <th>1</th>\n",
       "      <td>minhaj</td>\n",
       "      <td>18</td>\n",
       "    </tr>\n",
       "  </tbody>\n",
       "</table>\n",
       "</div>"
      ],
      "text/plain": [
       "     name   age\n",
       "0  hassam    22\n",
       "1  minhaj    18"
      ]
     },
     "execution_count": 3,
     "metadata": {},
     "output_type": "execute_result"
    }
   ],
   "source": [
    "dict = {\n",
    "    'name' :['hassam', 'minhaj'],\n",
    "    ' age' : [22,18]\n",
    "}\n",
    "df = pd.DataFrame(dict)\n",
    "df"
   ]
  },
  {
   "cell_type": "code",
   "execution_count": null,
   "id": "6f40985b-bc44-4fad-9b82-5400d8314d22",
   "metadata": {},
   "outputs": [],
   "source": []
  },
  {
   "cell_type": "code",
   "execution_count": null,
   "id": "17bfe496-8707-49d3-971c-f9ff29e033fc",
   "metadata": {},
   "outputs": [],
   "source": []
  },
  {
   "cell_type": "code",
   "execution_count": null,
   "id": "1f7e2185-8ffd-44fa-bedd-bff05bba73ba",
   "metadata": {},
   "outputs": [],
   "source": []
  },
  {
   "cell_type": "code",
   "execution_count": null,
   "id": "eb56a3b5-f451-4365-9926-40689d2ca36d",
   "metadata": {},
   "outputs": [],
   "source": []
  },
  {
   "cell_type": "code",
   "execution_count": null,
   "id": "791ab01f-1a8e-40f8-ba9b-7c38229dd4e6",
   "metadata": {},
   "outputs": [],
   "source": [
    "import pandas as pd\n",
    "import numpy as np\n",
    "\n",
    "newdf = pd.DataFrame(np.random.rand(100, 5), index=np.arange(100))\n",
    "newdf.at[0, 0] = \"hassam\"\n",
    "print(newdf)\n",
    "\n"
   ]
  },
  {
   "cell_type": "code",
   "execution_count": null,
   "id": "a731141d-cad0-448d-be2b-72da70c0f988",
   "metadata": {},
   "outputs": [],
   "source": [
    "newdf.to_numpy()"
   ]
  },
  {
   "cell_type": "code",
   "execution_count": null,
   "id": "31f331a3-4cbe-4504-b6b5-b4d99c5ac9a7",
   "metadata": {},
   "outputs": [],
   "source": [
    "newdf.at[0,0] = 0.6\n",
    "newdf"
   ]
  },
  {
   "cell_type": "code",
   "execution_count": null,
   "id": "028fe070-e57c-4aaa-a2b8-61c7d83ec1f8",
   "metadata": {},
   "outputs": [],
   "source": [
    "import pandas as pd\n",
    "\n",
    "data = {\n",
    "    'A': [1, 2, 3, 4, 5, 6],\n",
    "    'B': [7, 8, 9, 10, 11, 12]\n",
    "}\n",
    "\n",
    "\n",
    "index = ['a', 'b', 'c', 'd', 'e', 'f']\n",
    "newdf.head()\n"
   ]
  },
  {
   "cell_type": "code",
   "execution_count": null,
   "id": "92895d75-2743-40f3-80c9-8d038ad80d95",
   "metadata": {},
   "outputs": [],
   "source": [
    "newdf.describe()"
   ]
  },
  {
   "cell_type": "code",
   "execution_count": null,
   "id": "81a697b7-9765-42b1-b627-799dd6e8861b",
   "metadata": {},
   "outputs": [],
   "source": [
    "newdf.at['a','A'] = 69\n",
    "newdf.head()"
   ]
  },
  {
   "cell_type": "code",
   "execution_count": null,
   "id": "df0bb871-7d84-449d-bb77-c256e441fdb4",
   "metadata": {},
   "outputs": [],
   "source": [
    "newdf.drop(0, axis = 1)\n",
    "newdf.head()"
   ]
  },
  {
   "cell_type": "code",
   "execution_count": null,
   "id": "93b7c584-a49a-484c-b7aa-0796cd520858",
   "metadata": {},
   "outputs": [],
   "source": [
    "newdf.loc[(newdf['A']>4)]"
   ]
  },
  {
   "cell_type": "code",
   "execution_count": null,
   "id": "3a9c25b8-4c22-496b-ba67-f0844426519e",
   "metadata": {},
   "outputs": [],
   "source": [
    "new_index = [1, 2, 3, 4, 5, 6]\n",
    "\n",
    "newdf.index = new_index\n",
    "\n",
    "print(newdf)\n"
   ]
  },
  {
   "cell_type": "code",
   "execution_count": null,
   "id": "ad61ff81-3504-48e7-8e03-92a3c7f5a587",
   "metadata": {},
   "outputs": [],
   "source": [
    "newdf.iloc[0,1]"
   ]
  },
  {
   "cell_type": "code",
   "execution_count": 5,
   "id": "0d742ff3-9394-483a-a323-aaeebe5d400b",
   "metadata": {},
   "outputs": [
    {
     "name": "stdout",
     "output_type": "stream",
     "text": [
      "     name  age        role\n",
      "0  hassam   22      opener\n",
      "1  minhaj   18      bowler\n",
      "2  khizer   17  allrounder\n",
      "3   areeb   16     spinner\n"
     ]
    }
   ],
   "source": [
    "newdatabase = {\n",
    "    'name' : ['hassam', 'minhaj', 'khizer', ' areeb'],\n",
    "    'age' : [22,18,17,16],\n",
    "     'role' : [\"opener\", 'bowler', 'allrounder', 'spinner']\n",
    "}\n",
    "newdatabase = pd.DataFrame(newdatabase)\n",
    "\n",
    "index = [1,2,3,4]\n",
    "print(newdatabase)"
   ]
  },
  {
   "cell_type": "code",
   "execution_count": 6,
   "id": "da584eee-0e67-4223-81a3-380885c4f452",
   "metadata": {},
   "outputs": [
    {
     "data": {
      "text/html": [
       "<div>\n",
       "<style scoped>\n",
       "    .dataframe tbody tr th:only-of-type {\n",
       "        vertical-align: middle;\n",
       "    }\n",
       "\n",
       "    .dataframe tbody tr th {\n",
       "        vertical-align: top;\n",
       "    }\n",
       "\n",
       "    .dataframe thead th {\n",
       "        text-align: right;\n",
       "    }\n",
       "</style>\n",
       "<table border=\"1\" class=\"dataframe\">\n",
       "  <thead>\n",
       "    <tr style=\"text-align: right;\">\n",
       "      <th></th>\n",
       "      <th>name</th>\n",
       "      <th>age</th>\n",
       "      <th>role</th>\n",
       "    </tr>\n",
       "  </thead>\n",
       "  <tbody>\n",
       "    <tr>\n",
       "      <th>0</th>\n",
       "      <td>hassam</td>\n",
       "      <td>22</td>\n",
       "      <td>opener</td>\n",
       "    </tr>\n",
       "    <tr>\n",
       "      <th>1</th>\n",
       "      <td>minhaj</td>\n",
       "      <td>18</td>\n",
       "      <td>bowler</td>\n",
       "    </tr>\n",
       "    <tr>\n",
       "      <th>2</th>\n",
       "      <td>khizer</td>\n",
       "      <td>17</td>\n",
       "      <td>allrounder</td>\n",
       "    </tr>\n",
       "    <tr>\n",
       "      <th>3</th>\n",
       "      <td>areeb</td>\n",
       "      <td>16</td>\n",
       "      <td>spinner</td>\n",
       "    </tr>\n",
       "  </tbody>\n",
       "</table>\n",
       "</div>"
      ],
      "text/plain": [
       "     name  age        role\n",
       "0  hassam   22      opener\n",
       "1  minhaj   18      bowler\n",
       "2  khizer   17  allrounder\n",
       "3   areeb   16     spinner"
      ]
     },
     "execution_count": 6,
     "metadata": {},
     "output_type": "execute_result"
    }
   ],
   "source": [
    "newdatabase.head()"
   ]
  },
  {
   "cell_type": "code",
   "execution_count": 11,
   "id": "b4942b54-c82c-4a7a-99ed-e4cdb0e15123",
   "metadata": {},
   "outputs": [
    {
     "data": {
      "text/html": [
       "<div>\n",
       "<style scoped>\n",
       "    .dataframe tbody tr th:only-of-type {\n",
       "        vertical-align: middle;\n",
       "    }\n",
       "\n",
       "    .dataframe tbody tr th {\n",
       "        vertical-align: top;\n",
       "    }\n",
       "\n",
       "    .dataframe thead th {\n",
       "        text-align: right;\n",
       "    }\n",
       "</style>\n",
       "<table border=\"1\" class=\"dataframe\">\n",
       "  <thead>\n",
       "    <tr style=\"text-align: right;\">\n",
       "      <th></th>\n",
       "      <th>name</th>\n",
       "      <th>age</th>\n",
       "      <th>role</th>\n",
       "    </tr>\n",
       "  </thead>\n",
       "  <tbody>\n",
       "    <tr>\n",
       "      <th>0</th>\n",
       "      <td>muneeb</td>\n",
       "      <td>22</td>\n",
       "      <td>opener</td>\n",
       "    </tr>\n",
       "    <tr>\n",
       "      <th>1</th>\n",
       "      <td>muneeb</td>\n",
       "      <td>18</td>\n",
       "      <td>bowler</td>\n",
       "    </tr>\n",
       "    <tr>\n",
       "      <th>2</th>\n",
       "      <td>muneeb</td>\n",
       "      <td>17</td>\n",
       "      <td>allrounder</td>\n",
       "    </tr>\n",
       "    <tr>\n",
       "      <th>3</th>\n",
       "      <td>muneeb</td>\n",
       "      <td>16</td>\n",
       "      <td>spinner</td>\n",
       "    </tr>\n",
       "  </tbody>\n",
       "</table>\n",
       "</div>"
      ],
      "text/plain": [
       "     name  age        role\n",
       "0  muneeb   22      opener\n",
       "1  muneeb   18      bowler\n",
       "2  muneeb   17  allrounder\n",
       "3  muneeb   16     spinner"
      ]
     },
     "execution_count": 11,
     "metadata": {},
     "output_type": "execute_result"
    }
   ],
   "source": [
    "newdatabase.head()"
   ]
  },
  {
   "cell_type": "code",
   "execution_count": 12,
   "id": "3b450842-de74-422c-bed9-90b7f8fda60f",
   "metadata": {},
   "outputs": [
    {
     "data": {
      "text/html": [
       "<div>\n",
       "<style scoped>\n",
       "    .dataframe tbody tr th:only-of-type {\n",
       "        vertical-align: middle;\n",
       "    }\n",
       "\n",
       "    .dataframe tbody tr th {\n",
       "        vertical-align: top;\n",
       "    }\n",
       "\n",
       "    .dataframe thead th {\n",
       "        text-align: right;\n",
       "    }\n",
       "</style>\n",
       "<table border=\"1\" class=\"dataframe\">\n",
       "  <thead>\n",
       "    <tr style=\"text-align: right;\">\n",
       "      <th></th>\n",
       "      <th>name</th>\n",
       "      <th>age</th>\n",
       "      <th>role</th>\n",
       "    </tr>\n",
       "  </thead>\n",
       "  <tbody>\n",
       "    <tr>\n",
       "      <th>0</th>\n",
       "      <td>Hassam</td>\n",
       "      <td>22</td>\n",
       "      <td>opener</td>\n",
       "    </tr>\n",
       "    <tr>\n",
       "      <th>1</th>\n",
       "      <td>Minhaj</td>\n",
       "      <td>18</td>\n",
       "      <td>bowler</td>\n",
       "    </tr>\n",
       "    <tr>\n",
       "      <th>2</th>\n",
       "      <td>Areeb</td>\n",
       "      <td>17</td>\n",
       "      <td>allrounder</td>\n",
       "    </tr>\n",
       "    <tr>\n",
       "      <th>3</th>\n",
       "      <td>Khizer</td>\n",
       "      <td>16</td>\n",
       "      <td>spinner</td>\n",
       "    </tr>\n",
       "  </tbody>\n",
       "</table>\n",
       "</div>"
      ],
      "text/plain": [
       "     name  age        role\n",
       "0  Hassam   22      opener\n",
       "1  Minhaj   18      bowler\n",
       "2   Areeb   17  allrounder\n",
       "3  Khizer   16     spinner"
      ]
     },
     "execution_count": 12,
     "metadata": {},
     "output_type": "execute_result"
    }
   ],
   "source": [
    "newdatabase[\"name\"] = [\"Hassam\", 'Minhaj', 'Areeb', 'Khizer']\n",
    "newdatabase"
   ]
  },
  {
   "cell_type": "code",
   "execution_count": 13,
   "id": "2620cc2d-c1cc-4a54-9bde-6a0677278350",
   "metadata": {},
   "outputs": [
    {
     "data": {
      "text/plain": [
       "[1, 2, 3, 4]"
      ]
     },
     "execution_count": 13,
     "metadata": {},
     "output_type": "execute_result"
    }
   ],
   "source": [
    "newindexx = [1,2,3,4]\n",
    "newdatabase.index = newindexx\n",
    "newindexx"
   ]
  },
  {
   "cell_type": "code",
   "execution_count": 14,
   "id": "ff97c34b-f9d4-4c1d-b550-a71d67dd597c",
   "metadata": {},
   "outputs": [
    {
     "data": {
      "text/html": [
       "<div>\n",
       "<style scoped>\n",
       "    .dataframe tbody tr th:only-of-type {\n",
       "        vertical-align: middle;\n",
       "    }\n",
       "\n",
       "    .dataframe tbody tr th {\n",
       "        vertical-align: top;\n",
       "    }\n",
       "\n",
       "    .dataframe thead th {\n",
       "        text-align: right;\n",
       "    }\n",
       "</style>\n",
       "<table border=\"1\" class=\"dataframe\">\n",
       "  <thead>\n",
       "    <tr style=\"text-align: right;\">\n",
       "      <th></th>\n",
       "      <th>name</th>\n",
       "      <th>age</th>\n",
       "      <th>role</th>\n",
       "    </tr>\n",
       "  </thead>\n",
       "  <tbody>\n",
       "    <tr>\n",
       "      <th>1</th>\n",
       "      <td>Hassam</td>\n",
       "      <td>22</td>\n",
       "      <td>opener</td>\n",
       "    </tr>\n",
       "    <tr>\n",
       "      <th>2</th>\n",
       "      <td>Minhaj</td>\n",
       "      <td>18</td>\n",
       "      <td>bowler</td>\n",
       "    </tr>\n",
       "    <tr>\n",
       "      <th>3</th>\n",
       "      <td>Areeb</td>\n",
       "      <td>17</td>\n",
       "      <td>allrounder</td>\n",
       "    </tr>\n",
       "    <tr>\n",
       "      <th>4</th>\n",
       "      <td>Khizer</td>\n",
       "      <td>16</td>\n",
       "      <td>spinner</td>\n",
       "    </tr>\n",
       "  </tbody>\n",
       "</table>\n",
       "</div>"
      ],
      "text/plain": [
       "     name  age        role\n",
       "1  Hassam   22      opener\n",
       "2  Minhaj   18      bowler\n",
       "3   Areeb   17  allrounder\n",
       "4  Khizer   16     spinner"
      ]
     },
     "execution_count": 14,
     "metadata": {},
     "output_type": "execute_result"
    }
   ],
   "source": [
    "newdatabase.head()"
   ]
  },
  {
   "cell_type": "code",
   "execution_count": 15,
   "id": "b5b0f108-da1d-4921-931a-466e8fbb800e",
   "metadata": {},
   "outputs": [
    {
     "data": {
      "text/html": [
       "<div>\n",
       "<style scoped>\n",
       "    .dataframe tbody tr th:only-of-type {\n",
       "        vertical-align: middle;\n",
       "    }\n",
       "\n",
       "    .dataframe tbody tr th {\n",
       "        vertical-align: top;\n",
       "    }\n",
       "\n",
       "    .dataframe thead th {\n",
       "        text-align: right;\n",
       "    }\n",
       "</style>\n",
       "<table border=\"1\" class=\"dataframe\">\n",
       "  <thead>\n",
       "    <tr style=\"text-align: right;\">\n",
       "      <th></th>\n",
       "      <th>name</th>\n",
       "      <th>age</th>\n",
       "      <th>role</th>\n",
       "    </tr>\n",
       "  </thead>\n",
       "  <tbody>\n",
       "    <tr>\n",
       "      <th>1</th>\n",
       "      <td>Hassam</td>\n",
       "      <td>22</td>\n",
       "      <td>opener</td>\n",
       "    </tr>\n",
       "    <tr>\n",
       "      <th>2</th>\n",
       "      <td>Minhaj</td>\n",
       "      <td>18</td>\n",
       "      <td>bowler</td>\n",
       "    </tr>\n",
       "    <tr>\n",
       "      <th>3</th>\n",
       "      <td>Areeb</td>\n",
       "      <td>17</td>\n",
       "      <td>allrounder</td>\n",
       "    </tr>\n",
       "    <tr>\n",
       "      <th>4</th>\n",
       "      <td>Khizer</td>\n",
       "      <td>16</td>\n",
       "      <td>spinner</td>\n",
       "    </tr>\n",
       "  </tbody>\n",
       "</table>\n",
       "</div>"
      ],
      "text/plain": [
       "     name  age        role\n",
       "1  Hassam   22      opener\n",
       "2  Minhaj   18      bowler\n",
       "3   Areeb   17  allrounder\n",
       "4  Khizer   16     spinner"
      ]
     },
     "execution_count": 15,
     "metadata": {},
     "output_type": "execute_result"
    }
   ],
   "source": [
    "newdatabase.dropna(how= 'all', axis = 1)"
   ]
  },
  {
   "cell_type": "code",
   "execution_count": 22,
   "id": "c0b1044c-36b1-4fa0-8026-8535748502de",
   "metadata": {},
   "outputs": [
    {
     "data": {
      "text/plain": [
       "name\n",
       "Hassam    1\n",
       "Minhaj    1\n",
       "Areeb     1\n",
       "Khizer    1\n",
       "Name: count, dtype: int64"
      ]
     },
     "execution_count": 22,
     "metadata": {},
     "output_type": "execute_result"
    }
   ],
   "source": [
    "newdatabase['name'].value_counts(dropna = False)"
   ]
  },
  {
   "cell_type": "code",
   "execution_count": 23,
   "id": "d4a0c01f-8afd-47c7-93cc-af59741d99aa",
   "metadata": {},
   "outputs": [
    {
     "data": {
      "text/plain": [
       "name     Minhaj\n",
       "age          22\n",
       "role    spinner\n",
       "dtype: object"
      ]
     },
     "execution_count": 23,
     "metadata": {},
     "output_type": "execute_result"
    }
   ],
   "source": [
    "newdatabase.max()"
   ]
  },
  {
   "cell_type": "code",
   "execution_count": 24,
   "id": "12e7568a-fc33-4eba-b9c4-ded0e50737a3",
   "metadata": {},
   "outputs": [
    {
     "data": {
      "text/plain": [
       "name         Areeb\n",
       "age             16\n",
       "role    allrounder\n",
       "dtype: object"
      ]
     },
     "execution_count": 24,
     "metadata": {},
     "output_type": "execute_result"
    }
   ],
   "source": [
    "newdatabase.min()"
   ]
  },
  {
   "cell_type": "code",
   "execution_count": 28,
   "id": "3d9be178-9e34-4145-a54b-7f5674759d9e",
   "metadata": {},
   "outputs": [
    {
     "data": {
      "text/plain": [
       "name    4\n",
       "age     4\n",
       "role    4\n",
       "dtype: int64"
      ]
     },
     "execution_count": 28,
     "metadata": {},
     "output_type": "execute_result"
    }
   ],
   "source": [
    "newdatabase.count()"
   ]
  },
  {
   "cell_type": "code",
   "execution_count": null,
   "id": "c083d5a0-f961-4dd7-8424-e280927400e7",
   "metadata": {},
   "outputs": [],
   "source": []
  }
 ],
 "metadata": {
  "kernelspec": {
   "display_name": "Python 3 (ipykernel)",
   "language": "python",
   "name": "python3"
  },
  "language_info": {
   "codemirror_mode": {
    "name": "ipython",
    "version": 3
   },
   "file_extension": ".py",
   "mimetype": "text/x-python",
   "name": "python",
   "nbconvert_exporter": "python",
   "pygments_lexer": "ipython3",
   "version": "3.11.2"
  }
 },
 "nbformat": 4,
 "nbformat_minor": 5
}
